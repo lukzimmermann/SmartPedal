{
 "cells": [
  {
   "cell_type": "code",
   "execution_count": null,
   "metadata": {},
   "outputs": [],
   "source": [
    "import matplotlib.pyplot as plt\n",
    "import numpy as np"
   ]
  },
  {
   "cell_type": "markdown",
   "metadata": {},
   "source": [
    "a \n",
    "2\n",
    " =b \n",
    "2\n",
    " +c \n",
    "2\n",
    " −2bc⋅cos(α)"
   ]
  },
  {
   "cell_type": "code",
   "execution_count": null,
   "metadata": {},
   "outputs": [],
   "source": [
    "position = 0\n",
    "\n",
    "pivot_point = [0,0]\n",
    "slider_point = [position + 286.75, 33.5]\n",
    "\n",
    "rod_length = 244.05 #a\n",
    "pedal_length = 122.984 #b\n",
    "base_length = np.sqrt((slider_point[1])**2+slider_point[0]**2) #c\n",
    "\n",
    "rod_base_angle = np.arcsin(rod_length / base_length) # alpha\n",
    "pedal_base_angle = np.arcsin(pedal_length / base_length) # beta\n",
    "rod_pedal_angle = np.pi-pedal_base_angle-rod_base_angle # gamma\n",
    "pedal_point = [float(pivot_point[1]+pedal_length*np.sin(pedal_base_angle)), float(pivot_point[0]+pedal_length*np.cos(pedal_base_angle))]\n",
    "\n",
    "print(base_length)\n",
    "print(np.degrees(rod_base_angle))\n",
    "print(np.degrees(pedal_base_angle))\n",
    "print(np.degrees(rod_pedal_angle))\n",
    "\n",
    "print(pedal_point)"
   ]
  },
  {
   "cell_type": "code",
   "execution_count": null,
   "metadata": {},
   "outputs": [],
   "source": [
    "def drawLine(p1, p2):\n",
    "    plt.plot([p1[0], p2[0]], [p1[1], p2[1]])"
   ]
  },
  {
   "cell_type": "code",
   "execution_count": null,
   "metadata": {},
   "outputs": [],
   "source": [
    "drawLine(pivot_point, slider_point)\n",
    "drawLine(pivot_point, pedal_point)\n",
    "drawLine(slider_point, pedal_point)\n",
    "plt.axis('equal')"
   ]
  }
 ],
 "metadata": {
  "kernelspec": {
   "display_name": ".venv",
   "language": "python",
   "name": "python3"
  },
  "language_info": {
   "codemirror_mode": {
    "name": "ipython",
    "version": 3
   },
   "file_extension": ".py",
   "mimetype": "text/x-python",
   "name": "python",
   "nbconvert_exporter": "python",
   "pygments_lexer": "ipython3",
   "version": "3.13.2"
  }
 },
 "nbformat": 4,
 "nbformat_minor": 2
}
